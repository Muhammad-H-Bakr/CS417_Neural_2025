{
 "cells": [
  {
   "cell_type": "markdown",
   "id": "c3c6a54f",
   "metadata": {},
   "source": [
    "\n",
    "# Topic 1: Training a Simple Perceptron\n",
    "\n",
    "The perceptron will:\n",
    "1. Initialize random weights and a bias. (You can initialize them to zeroes)\n",
    "2. Predict outputs using a step activation function.\n",
    "3. Adjust weights until all predictions match expected outputs. (Dataset must be Linearly Separable)\n"
   ]
  },
  {
   "cell_type": "markdown",
   "id": "256c36a9",
   "metadata": {},
   "source": [
    "### Imports:"
   ]
  },
  {
   "cell_type": "code",
   "execution_count": 5,
   "id": "cbc8c1cf",
   "metadata": {},
   "outputs": [],
   "source": [
    "import numpy as np\n",
    "import matplotlib.pyplot as plt"
   ]
  },
  {
   "cell_type": "code",
   "execution_count": 6,
   "id": "57425f40",
   "metadata": {},
   "outputs": [
    {
     "name": "stdout",
     "output_type": "stream",
     "text": [
      "Initial weights: [ 0.94376757 -0.76601308]\n",
      "Initial bias: -0.8651225020038671\n",
      "\n",
      "Epoch 1: Weights = [0.94376757 0.23398692], Bias = 0.1348774979961329\n",
      "Epoch 2: Weights = [0.94376757 1.23398692], Bias = 0.1348774979961329\n",
      "Epoch 3: Weights = [0.94376757 1.23398692], Bias = -0.8651225020038671\n",
      "\n",
      "Training complete.\n",
      "\n",
      "Final Weights: [0.94376757 1.23398692]\n",
      "Final Bias: -0.8651225020038671\n",
      "\n",
      "Predictions:\n",
      "[0 0] → 0\n",
      "[0 1] → 1\n",
      "[1 0] → 1\n",
      "[1 1] → 1\n"
     ]
    }
   ],
   "source": [
    "class SimplePerceptron:\n",
    "    \"\"\"A minimal implementation of a single-layer perceptron.\"\"\"\n",
    "    def __init__(self, n_features, lr=1.0):\n",
    "        self.lr = lr\n",
    "        self.weights = np.random.uniform(-1, 1, n_features)\n",
    "        self.bias = np.random.uniform(-1, 1)\n",
    "\n",
    "    def step(self, x):\n",
    "        \"\"\"Binary step activation function.\"\"\"\n",
    "        return 1 if x >= 0 else 0\n",
    "\n",
    "    def predict(self, x):\n",
    "        \"\"\"Make a binary prediction for input vector x.\"\"\"\n",
    "        return self.step(np.dot(x, self.weights) + self.bias)\n",
    "\n",
    "    def train(self, X, y):\n",
    "        \"\"\"Train perceptron until all predictions are correct.\"\"\"\n",
    "        n_samples = X.shape[0]\n",
    "\n",
    "        print(f\"Initial weights: {self.weights}\")\n",
    "        print(f\"Initial bias: {self.bias}\\n\")\n",
    "\n",
    "        y_preds = np.zeros_like(y)\n",
    "        epoch = 0\n",
    "\n",
    "        # Keep training until predictions match labels\n",
    "        while not np.all(y_preds == y):\n",
    "            epoch += 1\n",
    "            for i in range(n_samples):\n",
    "                y_pred = self.predict(X[i])\n",
    "                error = y[i] - y_pred\n",
    "\n",
    "                # Update weights & bias if there is an error\n",
    "                if error != 0:\n",
    "                    self.weights += self.lr * error * X[i]\n",
    "                    self.bias += self.lr * error\n",
    "\n",
    "            y_preds = np.array([self.predict(x) for x in X])\n",
    "            print(f\"Epoch {epoch}: Weights = {self.weights}, Bias = {self.bias}\")\n",
    "\n",
    "        print(\"\\nTraining complete.\")\n",
    "        return self.weights, self.bias\n",
    "\n",
    "\n",
    "# Example: OR gate dataset\n",
    "X = np.array([[0, 0], [0, 1], [1, 0], [1, 1]])\n",
    "y = np.array([0, 1, 1, 1])\n",
    "\n",
    "# Initialize and train perceptron\n",
    "perceptron = SimplePerceptron(n_features=X.shape[1])\n",
    "weights, bias = perceptron.train(X, y)\n",
    "\n",
    "print(\"\\nFinal Weights:\", weights)\n",
    "print(\"Final Bias:\", bias)\n",
    "\n",
    "print(\"\\nPredictions:\")\n",
    "for x in X:\n",
    "    print(f\"{x} → {perceptron.predict(x)}\")\n"
   ]
  },
  {
   "cell_type": "markdown",
   "id": "fb13dbae",
   "metadata": {},
   "source": [
    "\n",
    "# Topic 2: Line Equation from Two Points\n",
    "\n",
    "A perceptron separates space with a **line** (or hyperplane in higher dimensions).\n",
    "Here, we define a helper that finds the line passing through two points and expresses it in a linear form:\n",
    "\n",
    "\\[ A x + B y + C = 0 \\] Normally to the equation: y = mx + b\n",
    "\n",
    "Depending on which side of the line we consider \"above\", we flip the coefficients' signs.\n"
   ]
  },
  {
   "cell_type": "code",
   "execution_count": 7,
   "id": "af941fc1",
   "metadata": {},
   "outputs": [
    {
     "name": "stdout",
     "output_type": "stream",
     "text": [
      "Above: [1.0, 1, 1.0]\n",
      "Below: [-1.0, -1, -1.0]\n"
     ]
    }
   ],
   "source": [
    "def line_from_points(p1, p2):\n",
    "    \"\"\"Return slope (m) and intercept (b) of a line passing through two points.\"\"\"\n",
    "    if p1[0] == p2[0]:\n",
    "        # Vertical line: slope undefined\n",
    "        return None, p1[0]\n",
    "    m = (p2[1] - p1[1]) / (p2[0] - p1[0])\n",
    "    b = p1[1] - m * p1[0]\n",
    "    return m, b\n",
    "\n",
    "def line_equation_form(p1, p2, above=True):\n",
    "    \"\"\"Return line coefficients (A, B, C) for the form A*x + B*y + C = 0.\"\"\"\n",
    "    m, b = line_from_points(p1, p2)\n",
    "    if m is None:\n",
    "        # Vertical line: x = b form\n",
    "        return [-1, 0, b] if above else [1, 0, -b]\n",
    "    \n",
    "    # Choose orientation (above vs below)\n",
    "    if above:\n",
    "        A, B, C = -m, 1, -b\n",
    "    else:\n",
    "        A, B, C = m, -1, b\n",
    "    return [A, B, C]\n",
    "\n",
    "# Example usage\n",
    "p1 = (0, -1)\n",
    "p2 = (-1, 0)\n",
    "\n",
    "print(\"Above:\", line_equation_form(p1, p2, True))\n",
    "print(\"Below:\", line_equation_form(p1, p2, False))\n"
   ]
  },
  {
   "cell_type": "markdown",
   "id": "a6680488",
   "metadata": {},
   "source": [
    "\n",
    "# Topic 3: Drawing Shapes using Neurons\n",
    "\n",
    "Now, let’s use **multiple neurons** (each representing a line) to form a **geometric region** — a shape in 2D space.\n",
    "\n",
    "We'll use four lines to form a **diamond** shape centered at the origin.  \n",
    "Each neuron detects which side of a line the point lies on, and their combination defines the region where the output is 1.\n"
   ]
  },
  {
   "cell_type": "code",
   "execution_count": 8,
   "id": "23086eff",
   "metadata": {},
   "outputs": [
    {
     "data": {
      "image/png": "[encoded data removed]",
      "text/plain": [
       "<Figure size 700x700 with 1 Axes>"
      ]
     },
     "metadata": {},
     "output_type": "display_data"
    }
   ],
   "source": [
    "def step(x):\n",
    "    return 1 if x >= 0 else 0\n",
    "\n",
    "def neuron(x, w, b):\n",
    "    \"\"\"Compute neuron output using step activation.\"\"\"\n",
    "    return step(np.dot(x, w) + b)\n",
    "\n",
    "def perceptron(x):\n",
    "    \"\"\"Combine multiple neurons to define a diamond shape region.\"\"\"\n",
    "    # Four boundary lines (square rotated 45°)\n",
    "    L1 = line_equation_form((1, 0), (0, 1), above=False)\n",
    "    L2 = line_equation_form((0, -1), (-1, 0), above=True)\n",
    "    L3 = line_equation_form((-1, 0), (0, 1), above=False)\n",
    "    L4 = line_equation_form((0, -1), (1, 0), above=True)\n",
    "\n",
    "    # Compute which side of each line the point lies on\n",
    "    n1 = neuron(x, L1[:2], L1[2])\n",
    "    n2 = neuron(x, L2[:2], L2[2])\n",
    "    n3 = neuron(x, L3[:2], L3[2])\n",
    "    n4 = neuron(x, L4[:2], L4[2])\n",
    "\n",
    "    # Final neuron activates only if inside all 4 regions\n",
    "    n5 = neuron(np.array([n1, n2, n3, n4]), np.array([1, 1, 1, 1]), -4)\n",
    "    return n5\n",
    "\n",
    "# Generate random test points\n",
    "points = np.random.randint(-6, 6, size=(50, 2))\n",
    "outputs = np.array([perceptron(p) for p in points])\n",
    "\n",
    "# Create a mesh grid for visualization\n",
    "limit = 6\n",
    "x = np.linspace(-limit, limit, 300)\n",
    "y = np.linspace(-limit, limit, 300)\n",
    "X, Y = np.meshgrid(x, y)\n",
    "Z = np.array([[perceptron((xx, yy)) for xx, yy in zip(row_x, row_y)] for row_x, row_y in zip(X, Y)])\n",
    "\n",
    "# Visualization\n",
    "plt.figure(figsize=(7, 7))\n",
    "plt.title(\"Decision Region Formed by Multiple Neurons\", fontsize=14, pad=15)\n",
    "\n",
    "# Plot decision boundary\n",
    "plt.contour(X, Y, Z, levels=[0], colors=[\"blue\"], linewidths=2)\n",
    "\n",
    "# Highlight region where neuron output == 1\n",
    "plt.contourf(X, Y, Z, levels=[0.5, 1.5], colors=[\"blue\"], alpha=0.5)\n",
    "\n",
    "# Highlight region where neuron output == 0\n",
    "plt.contourf(X, Y, Z, levels=[-0.5, 0.5], colors=[\"red\"], alpha=0.5)\n",
    "\n",
    "# Optionally scatter sample points\n",
    "# plt.scatter(X[Z == 1], Y[Z == 1], s=90, color='green')\n",
    "plt.scatter(points[:, 0], points[:, 1], c=outputs, cmap=\"bwr_r\", s=20, edgecolors=\"k\")\n",
    "\n",
    "# Labeling and axis styling\n",
    "plt.xlabel(\"x\", loc=\"right\")\n",
    "plt.ylabel(\"y\", loc=\"top\")\n",
    "plt.xlim(-limit, limit)\n",
    "plt.ylim(-limit, limit)\n",
    "plt.grid(alpha=0.3)\n",
    "\n",
    "# Center axes\n",
    "ax = plt.gca()\n",
    "ax.spines[\"left\"].set_position(\"center\")\n",
    "ax.spines[\"bottom\"].set_position(\"center\")\n",
    "ax.spines[\"right\"].set_color(\"none\")\n",
    "ax.spines[\"top\"].set_color(\"none\")\n",
    "\n",
    "plt.show()\n"
   ]
  }
 ],
 "metadata": {
  "kernelspec": {
   "display_name": ".venv",
   "language": "python",
   "name": "python3"
  },
  "language_info": {
   "codemirror_mode": {
    "name": "ipython",
    "version": 3
   },
   "file_extension": ".py",
   "mimetype": "text/x-python",
   "name": "python",
   "nbconvert_exporter": "python",
   "pygments_lexer": "ipython3",
   "version": "3.13.7"
  }
 },
 "nbformat": 4,
 "nbformat_minor": 5
}
