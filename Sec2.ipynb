{
  "cells": [
    {
      "cell_type": "code",
      "execution_count": 20,
      "metadata": {},
      "outputs": [],
      "source": [
        "# Imports\n",
        "import numpy as np\n",
        "from itertools import islice\n",
        "import math"
      ]
    },
    {
      "cell_type": "code",
      "execution_count": 21,
      "metadata": {},
      "outputs": [
        {
          "name": "stdout",
          "output_type": "stream",
          "text": [
            "Full Array:\n",
            "[[ 1  2  3  4  5]\n",
            " [ 6  7  8  9 10]\n",
            " [11 12 13 14 15]\n",
            " [16 17 18 19 20]\n",
            " [21 22 23 24 25]\n",
            " [26 27 28 29 30]]\n"
          ]
        }
      ],
      "source": [
        "# Creating and exploring a NumPy array\n",
        "ls = [[x, x + 1, x + 2, x + 3, x + 4] for x in range(1, 30, 5)]\n",
        "arr = np.array(ls)\n",
        "print(\"Full Array:\")\n",
        "print(arr)"
      ]
    },
    {
      "cell_type": "code",
      "execution_count": null,
      "metadata": {},
      "outputs": [
        {
          "name": "stdout",
          "output_type": "stream",
          "text": [
            "\n",
            "arr[2:4, 0:2] -> Rows 2 & 3, Columns 0 & 1:\n",
            "[[11 12]\n",
            " [16 17]]\n",
            "\n",
            "arr[[0,1,2,3], [1,2,3,4]] -> Diagonal-like element selection:\n",
            "[ 2  8 14 20]\n",
            "\n",
            "arr[[0,4,5], 3:] -> Rows 0, 4, and 5 with columns 3 to end:\n",
            "[[ 4  5]\n",
            " [19 20]\n",
            " [24 25]]\n",
            "\n",
            "Rest of the unmarked selections:\n",
            "[ 1  3  6  7  9 10 13 15 18 21 22 23 26 27 28 29 30]\n"
          ]
        }
      ],
      "source": [
        "# Accessing array slices\n",
        "part1 = arr[2:4, 0:2]\n",
        "part2 = arr[[0, 1, 2, 3], [1, 2, 3, 4]]\n",
        "part3 = arr[[0, 3, 4], 3:]\n",
        "\n",
        "print(\"\\narr[2:4, 0:2] -> Rows 2 & 3, Columns 0 & 1:\")\n",
        "print(part1)\n",
        "\n",
        "print(\"\\narr[[0,1,2,3], [1,2,3,4]] -> Diagonal-like element selection:\")\n",
        "print(part2)\n",
        "\n",
        "print(\"\\narr[[0,4,5], 3:] -> Rows 0, 4, and 5 with columns 3 to end:\")\n",
        "print(part3)\n",
        "\n",
        "print(\"\\nRest of the unmarked selections:\")\n",
        "combined = np.concatenate([np.ravel(x) for x in [part1, part2, part3]])\n",
        "rest = [x for x in np.ravel(arr) if x not in combined]\n",
        "print(np.array(rest))"
      ]
    },
    {
      "cell_type": "code",
      "execution_count": null,
      "metadata": {},
      "outputs": [],
      "source": [
        "# Prime Number Function\n",
        "def is_prime(num):\n",
        "    \n",
        "    # check odd or even:\n",
        "    if num < 2:\n",
        "        return False\n",
        "    if num == 2:\n",
        "        return True\n",
        "    if num % 2 == 0:\n",
        "        return False\n",
        "    \n",
        "    # check for odd (not even) factors from 3 to sqrt(num):\n",
        "    limit = int(math.sqrt(num)) + 1\n",
        "    for div in range(3, limit, 2):\n",
        "        if num % div == 0:\n",
        "            return False\n",
        "    return True"
      ]
    },
    {
      "cell_type": "code",
      "execution_count": 24,
      "metadata": {},
      "outputs": [
        {
          "name": "stdout",
          "output_type": "stream",
          "text": [
            "First 50 primes (computed by checking all up to 1000):\n",
            "[2, 3, 5, 7, 11, 13, 17, 19, 23, 29, 31, 37, 41, 43, 47, 53, 59, 61, 67, 71, 73, 79, 83, 89, 97, 101, 103, 107, 109, 113, 127, 131, 137, 139, 149, 151, 157, 163, 167, 173, 179, 181, 191, 193, 197, 199, 211, 223, 227, 229]\n"
          ]
        }
      ],
      "source": [
        "# Finding primes (inefficient way – tests all numbers up to 999) but uses list comprehension:\n",
        "ls_all = [x for x in range(1000) if is_prime(x)][:50]\n",
        "print(\"First 50 primes (computed by checking all up to 1000):\")\n",
        "print(ls_all)"
      ]
    }
  ],
  "metadata": {
    "kernelspec": {
      "display_name": ".venv",
      "language": "python",
      "name": "python3"
    },
    "language_info": {
      "codemirror_mode": {
        "name": "ipython",
        "version": 3
      },
      "file_extension": ".py",
      "mimetype": "text/x-python",
      "name": "python",
      "nbconvert_exporter": "python",
      "pygments_lexer": "ipython3",
      "version": "3.13.8"
    }
  },
  "nbformat": 4,
  "nbformat_minor": 5
}
