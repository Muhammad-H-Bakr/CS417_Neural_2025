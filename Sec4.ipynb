{
 "cells": [
  {
   "cell_type": "markdown",
   "id": "4225cb3f",
   "metadata": {},
   "source": [
    "# Section 4: Several Exercises over implementation."
   ]
  },
  {
   "cell_type": "markdown",
   "id": "5e0c8b1b",
   "metadata": {},
   "source": [
    "### Imports."
   ]
  },
  {
   "cell_type": "code",
   "execution_count": 139,
   "id": "050f79d0",
   "metadata": {},
   "outputs": [],
   "source": [
    "\n",
    "import numpy as np"
   ]
  },
  {
   "cell_type": "markdown",
   "id": "80b5d110",
   "metadata": {},
   "source": [
    "### Activation Function & Perceptron."
   ]
  },
  {
   "cell_type": "code",
   "execution_count": 140,
   "id": "835ffdc1",
   "metadata": {},
   "outputs": [],
   "source": [
    "\n",
    "def step(x):\n",
    "    \"\"\"Binary step activation function.\"\"\"\n",
    "    return int(x >= 0)\n",
    "\n",
    "\n",
    "def neuron(x, w, b):\n",
    "    \"\"\"Single perceptron neuron.\"\"\"\n",
    "    return step(np.dot(x, w) + b)"
   ]
  },
  {
   "cell_type": "markdown",
   "id": "c1bb05b7",
   "metadata": {},
   "source": [
    "### General AND/OR in one function."
   ]
  },
  {
   "cell_type": "code",
   "execution_count": 141,
   "id": "83c6956b",
   "metadata": {},
   "outputs": [],
   "source": [
    "\n",
    "def compute_gate(x_dict, gate_type=\"and\"):\n",
    "    \"\"\"\n",
    "    Generic perceptron-based logic gate handler.\n",
    "    Args:\n",
    "        x_dict: dict of {var_name: (value, is_positive)}\n",
    "        gate_type: \"and\" or \"or\"\n",
    "    \"\"\"\n",
    "    values = np.array([v for v, _ in x_dict.values()]) \n",
    "    weights = np.array([1 if pos else -1 for _, pos in x_dict.values()])\n",
    "    L = sum(pos for _, pos in x_dict.values())\n",
    "    N = len(values)\n",
    "\n",
    "    bias = -L if gate_type == \"and\" else -(L - N + 1)\n",
    "    return neuron(values, weights, bias)\n",
    "\n",
    "\n",
    "def general_and(x_dict):\n",
    "    return compute_gate(x_dict, \"and\")\n",
    "\n",
    "\n",
    "def general_or(x_dict):\n",
    "    return compute_gate(x_dict, \"or\")"
   ]
  },
  {
   "cell_type": "markdown",
   "id": "7ce8af18",
   "metadata": {},
   "source": [
    "### Test This Expression: (¬y ∧ ¬z) ∨ (¬w ∧ x ∧ ¬y) ∨ (¬x ∧ ¬z):"
   ]
  },
  {
   "cell_type": "code",
   "execution_count": 142,
   "id": "deeffb90",
   "metadata": {},
   "outputs": [
    {
     "name": "stdout",
     "output_type": "stream",
     "text": [
      "w x y z | perceptron expected\n",
      "-----------------------------\n",
      "0 0 0 0 |    1       1\n",
      "0 0 0 1 |    0       0\n",
      "0 0 1 0 |    1       1\n",
      "0 0 1 1 |    0       0\n",
      "0 1 0 0 |    1       1\n",
      "0 1 0 1 |    1       1\n",
      "0 1 1 0 |    0       0\n",
      "0 1 1 1 |    0       0\n",
      "1 0 0 0 |    1       1\n",
      "1 0 0 1 |    0       0\n",
      "1 0 1 0 |    1       1\n",
      "1 0 1 1 |    0       0\n",
      "1 1 0 0 |    1       1\n",
      "1 1 0 1 |    0       0\n",
      "1 1 1 0 |    0       0\n",
      "1 1 1 1 |    0       0\n"
     ]
    }
   ],
   "source": [
    "\n",
    "def test_complex_expression():\n",
    "    print(\"w x y z | perceptron expected\")\n",
    "    print(\"-----------------------------\")\n",
    "\n",
    "    for w in [0, 1]:\n",
    "        for x in [0, 1]:\n",
    "            for y in [0, 1]:\n",
    "                for z in [0, 1]:\n",
    "                    p1 = {\"y\": (y, False), \"z\": (z, False)}\n",
    "                    p2 = {\"w\": (w, False), \"x\": (x, True), \"y\": (y, False)}\n",
    "                    p3 = {\"x\": (x, False), \"z\": (z, False)}\n",
    "                    p4 = {\n",
    "                        \"p1\": (general_and(p1), True),\n",
    "                        \"p2\": (general_and(p2), True),\n",
    "                        \"p3\": (general_and(p3), True),\n",
    "                    }\n",
    "\n",
    "                    perceptron_out = general_or(p4)\n",
    "                    expected = int(\n",
    "                        (not y and not z)\n",
    "                        or (not w and x and not y)\n",
    "                        or (not x and not z)\n",
    "                    )\n",
    "\n",
    "                    print(f\"{w} {x} {y} {z} |    {perceptron_out}       {expected}\")\n",
    "\n",
    "test_complex_expression()"
   ]
  },
  {
   "cell_type": "markdown",
   "id": "694aa07d",
   "metadata": {},
   "source": [
    "### Defining Xor Over 2 element. Xor over N-elements Recursively and Iteratively using Divide & Conquer."
   ]
  },
  {
   "cell_type": "code",
   "execution_count": 143,
   "id": "afa31269",
   "metadata": {},
   "outputs": [],
   "source": [
    "def xor_basic(x):\n",
    "    \"\"\"Two-input XOR using perceptrons.\"\"\"\n",
    "    n1 = neuron(x, np.array([1, -1]), -1)\n",
    "    n2 = neuron(x, np.array([-1, 1]), -1)\n",
    "    return neuron(np.array([n1, n2]), np.array([1, 1]), -1)\n",
    "\n",
    "\n",
    "def xor_divide_conquer(inputs):\n",
    "    \"\"\"Recursive XOR for any number of inputs.\"\"\"\n",
    "    if len(inputs) == 1:\n",
    "        return inputs[0]\n",
    "    if len(inputs) == 2:\n",
    "        return xor_basic(np.array(inputs))\n",
    "\n",
    "    mid = len(inputs) // 2\n",
    "    left = xor_divide_conquer(inputs[:mid])\n",
    "    right = xor_divide_conquer(inputs[mid:])\n",
    "    return xor_basic(np.array([left, right]))\n",
    "\n",
    "\n",
    "def xor(arr):\n",
    "    \"\"\"Simple XOR on a NumPy array of two elements.\"\"\"\n",
    "    return arr[0] ^ arr[1]\n",
    "\n",
    "\n",
    "def xor_divide_conquer_iterative(inputs):\n",
    "    \"\"\"Iterative divide-and-conquer XOR for any number of inputs (handles odd lengths).\"\"\"\n",
    "    # Copy to avoid modifying the original list\n",
    "    current = np.array(inputs, dtype=int)\n",
    "\n",
    "    # Keep combining until one element remains\n",
    "    while len(current) > 1:\n",
    "        next_level = []\n",
    "\n",
    "        # Process pairs\n",
    "        for i in range(0, len(current) - 1, 2):\n",
    "            next_level.append(xor(np.array([current[i], current[i + 1]])))\n",
    "\n",
    "        # If odd number of elements, carry last one forward\n",
    "        if len(current) % 2 == 1:\n",
    "            next_level.append(current[-1])\n",
    "\n",
    "        # Move to next level\n",
    "        current = np.array(next_level, dtype=int)\n",
    "\n",
    "    return current[0]"
   ]
  },
  {
   "cell_type": "markdown",
   "id": "0a06db2a",
   "metadata": {},
   "source": [
    "### Xor over N-elements Linearly w/ Test."
   ]
  },
  {
   "cell_type": "code",
   "execution_count": 144,
   "id": "264e15bc",
   "metadata": {},
   "outputs": [
    {
     "name": "stdout",
     "output_type": "stream",
     "text": [
      "w x y z | perceptron expected\n",
      "--------------------------\n",
      "0 0 0 0 |    0       0\n",
      "0 0 0 1 |    1       1\n",
      "0 0 1 0 |    1       1\n",
      "0 0 1 1 |    0       0\n",
      "0 1 0 0 |    1       1\n",
      "0 1 0 1 |    0       0\n",
      "0 1 1 0 |    0       0\n",
      "0 1 1 1 |    1       1\n",
      "1 0 0 0 |    1       1\n",
      "1 0 0 1 |    0       0\n",
      "1 0 1 0 |    0       0\n",
      "1 0 1 1 |    1       1\n",
      "1 1 0 0 |    0       0\n",
      "1 1 0 1 |    1       1\n",
      "1 1 1 0 |    1       1\n",
      "1 1 1 1 |    0       0\n"
     ]
    }
   ],
   "source": [
    "def test_xor_basic():\n",
    "    print(\"w x y z | perceptron expected\")\n",
    "    print(\"--------------------------\")\n",
    "    for w_val in [0, 1]:\n",
    "        for x_val in [0, 1]:\n",
    "            for y_val in [0, 1]:\n",
    "                for z_val in [0, 1]:\n",
    "                    ls = [w_val, x_val, y_val, z_val]\n",
    "                    while len(ls) > 1:\n",
    "                        vals = [ls.pop(0), ls.pop(0)]\n",
    "                        out = xor_basic(np.array(vals))\n",
    "                        ls.insert(0, out)\n",
    "                    expected = int(x_val ^ y_val ^ z_val ^ w_val)\n",
    "\n",
    "                    print(f\"{w_val} {x_val} {y_val} {z_val} |    {ls[0]}       {expected}\")\n",
    "                    \n",
    "test_xor_basic()"
   ]
  },
  {
   "cell_type": "markdown",
   "id": "cf39e0eb",
   "metadata": {},
   "source": [
    "### Testing The Divide & Conquer Approach."
   ]
  },
  {
   "cell_type": "code",
   "execution_count": 145,
   "id": "ab0ceae1",
   "metadata": {},
   "outputs": [
    {
     "name": "stdout",
     "output_type": "stream",
     "text": [
      "w x y | iterative recursive expected\n",
      "------------------------------------\n",
      "0 0 0 |   0           0       0\n",
      "0 0 1 |   1           1       1\n",
      "0 1 0 |   1           1       1\n",
      "0 1 1 |   0           0       0\n",
      "1 0 0 |   1           1       1\n",
      "1 0 1 |   0           0       0\n",
      "1 1 0 |   0           0       0\n",
      "1 1 1 |   1           1       1\n"
     ]
    }
   ],
   "source": [
    "def test_xor_multi():\n",
    "    print(\"w x y | iterative recursive expected\")\n",
    "    print(\"------------------------------------\")\n",
    "    for w in [0, 1]:\n",
    "        for x in [0, 1]:\n",
    "            for y in [0, 1]:\n",
    "                vals = [w, x, y]\n",
    "                out = xor_divide_conquer_iterative(vals)\n",
    "                out2 = xor_divide_conquer(vals) \n",
    "                print(f\"{w} {x} {y} |   {out}           {out2}       {w ^ x ^ y}\")\n",
    "\n",
    "test_xor_multi()\n"
   ]
  }
 ],
 "metadata": {
  "kernelspec": {
   "display_name": ".venv",
   "language": "python",
   "name": "python3"
  },
  "language_info": {
   "codemirror_mode": {
    "name": "ipython",
    "version": 3
   },
   "file_extension": ".py",
   "mimetype": "text/x-python",
   "name": "python",
   "nbconvert_exporter": "python",
   "pygments_lexer": "ipython3",
   "version": "3.13.8"
  }
 },
 "nbformat": 4,
 "nbformat_minor": 5
}
